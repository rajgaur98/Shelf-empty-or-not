{
 "cells": [
  {
   "cell_type": "code",
   "execution_count": 5,
   "metadata": {},
   "outputs": [],
   "source": [
    "import tensorflow as tf\n",
    "from tensorflow.keras.optimizers import RMSprop\n",
    "from tensorflow.keras.preprocessing.image import ImageDataGenerator"
   ]
  },
  {
   "cell_type": "code",
   "execution_count": 6,
   "metadata": {},
   "outputs": [],
   "source": [
    "model = tf.keras.models.Sequential([\n",
    "    tf.keras.layers.Conv2D(16, (3, 3), activation='relu', input_shape=(150, 150, 3)),\n",
    "    tf.keras.layers.MaxPooling2D(2, 2),\n",
    "    tf.keras.layers.Conv2D(32, (3, 3), activation='relu'),\n",
    "    tf.keras.layers.MaxPooling2D(2, 2),\n",
    "    tf.keras.layers.Conv2D(64, (3, 3), activation='relu'),\n",
    "    tf.keras.layers.MaxPooling2D(2, 2),\n",
    "    tf.keras.layers.Flatten(),\n",
    "    tf.keras.layers.Dense(512, activation='relu'),\n",
    "    tf.keras.layers.Dense(1, activation='sigmoid')\n",
    "])\n",
    "\n",
    "model.compile(optimizer=RMSprop(lr=0.001), loss='binary_crossentropy', metrics=['acc'])"
   ]
  },
  {
   "cell_type": "code",
   "execution_count": 7,
   "metadata": {},
   "outputs": [
    {
     "name": "stdout",
     "output_type": "stream",
     "text": [
      "Found 196 images belonging to 2 classes.\n",
      "Found 24 images belonging to 2 classes.\n"
     ]
    }
   ],
   "source": [
    "TRAINING_DIR = \"C:\\\\Users\\\\Rajkumar\\\\Desktop\\\\studies\\\\ml_test\\\\train\"\n",
    "train_datagen = ImageDataGenerator(rescale=1./255)\n",
    "train_generator = train_datagen.flow_from_directory(TRAINING_DIR,\n",
    "                                                    batch_size=1,\n",
    "                                                    class_mode='binary',\n",
    "                                                    target_size=(150, 150))\n",
    "\n",
    "VALIDATION_DIR = \"C:\\\\Users\\\\Rajkumar\\\\Desktop\\\\studies\\\\ml_test\\\\test\"\n",
    "validation_datagen = ImageDataGenerator(rescale=1.0/255.)\n",
    "validation_generator = validation_datagen.flow_from_directory(VALIDATION_DIR,\n",
    "                                                              batch_size=1,\n",
    "                                                              class_mode='binary',\n",
    "                                                              target_size=(150, 150))"
   ]
  },
  {
   "cell_type": "code",
   "execution_count": 8,
   "metadata": {},
   "outputs": [
    {
     "name": "stdout",
     "output_type": "stream",
     "text": [
      "Epoch 1/20\n",
      "196/196 [==============================] - 53s 268ms/step - loss: 1.0028 - acc: 0.6071 - val_loss: 0.5823 - val_acc: 0.5000\n",
      "Epoch 2/20\n",
      "196/196 [==============================] - 51s 260ms/step - loss: 0.6786 - acc: 0.6378 - val_loss: 0.6713 - val_acc: 0.6250\n",
      "Epoch 3/20\n",
      "196/196 [==============================] - 52s 267ms/step - loss: 0.6411 - acc: 0.7194 - val_loss: 0.6717 - val_acc: 0.6250\n",
      "Epoch 4/20\n",
      "196/196 [==============================] - 50s 255ms/step - loss: 0.5894 - acc: 0.7296 - val_loss: 0.7084 - val_acc: 0.7083\n",
      "Epoch 5/20\n",
      "196/196 [==============================] - 49s 253ms/step - loss: 0.5609 - acc: 0.7704 - val_loss: 0.6631 - val_acc: 0.6667\n",
      "Epoch 6/20\n",
      "196/196 [==============================] - 50s 256ms/step - loss: 0.5178 - acc: 0.7908 - val_loss: 1.0702 - val_acc: 0.6667\n",
      "Epoch 7/20\n",
      "196/196 [==============================] - 51s 259ms/step - loss: 0.4504 - acc: 0.8265 - val_loss: 0.9550 - val_acc: 0.5833\n",
      "Epoch 8/20\n",
      "196/196 [==============================] - 50s 256ms/step - loss: 0.4353 - acc: 0.8520 - val_loss: 0.7534 - val_acc: 0.7917\n",
      "Epoch 9/20\n",
      "196/196 [==============================] - 50s 253ms/step - loss: 0.4762 - acc: 0.9082 - val_loss: 1.1361 - val_acc: 0.7083\n",
      "Epoch 10/20\n",
      "196/196 [==============================] - 51s 261ms/step - loss: 0.2951 - acc: 0.8980 - val_loss: 1.0038 - val_acc: 0.6667\n",
      "Epoch 11/20\n",
      "196/196 [==============================] - 52s 263ms/step - loss: 0.3279 - acc: 0.9337 - val_loss: 1.8821 - val_acc: 0.7083\n",
      "Epoch 12/20\n",
      "196/196 [==============================] - 50s 257ms/step - loss: 0.2512 - acc: 0.9235 - val_loss: 1.3422 - val_acc: 0.7500\n",
      "Epoch 13/20\n",
      "196/196 [==============================] - 51s 258ms/step - loss: 0.2428 - acc: 0.9337 - val_loss: 1.1453 - val_acc: 0.7083\n",
      "Epoch 14/20\n",
      "196/196 [==============================] - 52s 263ms/step - loss: 0.2186 - acc: 0.9388 - val_loss: 2.2027 - val_acc: 0.8333\n",
      "Epoch 15/20\n",
      "196/196 [==============================] - 51s 262ms/step - loss: 0.1474 - acc: 0.9643 - val_loss: 1.9083 - val_acc: 0.7917\n",
      "Epoch 16/20\n",
      "196/196 [==============================] - 52s 263ms/step - loss: 0.0873 - acc: 0.9643 - val_loss: 2.3374 - val_acc: 0.7917\n",
      "Epoch 17/20\n",
      "196/196 [==============================] - 50s 256ms/step - loss: 0.2222 - acc: 0.9643 - val_loss: 1.5175 - val_acc: 0.7500\n",
      "Epoch 18/20\n",
      "196/196 [==============================] - 52s 263ms/step - loss: 0.1767 - acc: 0.9745 - val_loss: 1.6161 - val_acc: 0.7917\n",
      "Epoch 19/20\n",
      "196/196 [==============================] - 52s 263ms/step - loss: 0.2482 - acc: 0.9541 - val_loss: 2.8252 - val_acc: 0.7917\n",
      "Epoch 20/20\n",
      "196/196 [==============================] - 51s 260ms/step - loss: 0.2574 - acc: 0.9745 - val_loss: 2.0234 - val_acc: 0.7083\n"
     ]
    }
   ],
   "source": [
    "history = model.fit_generator(train_generator,\n",
    "                              epochs=20,\n",
    "                              verbose=1,\n",
    "                              validation_data=validation_generator)"
   ]
  },
  {
   "cell_type": "code",
   "execution_count": 9,
   "metadata": {},
   "outputs": [
    {
     "name": "stdout",
     "output_type": "stream",
     "text": [
      "[[0.]]\n",
      "empty\n",
      "Network:Oct5,2019at2:41:2¢PMPDTeetroecielaeNIitBerNeWaySagatay98138iteSeiceaSATAA:FUC82TBHSOAFTTTCLEARGLASSven9.9912sooHMLTDIMMPIUTANT52522\n"
     ]
    }
   ],
   "source": [
    "import numpy as np\n",
    "import pytesseract\n",
    "from pytesseract import Output\n",
    "import cv2\n",
    "from PIL import Image\n",
    "from tensorflow.keras.preprocessing import image\n",
    "pytesseract.pytesseract.tesseract_cmd = 'C:\\\\Program Files\\\\Tesseract-OCR\\\\tesseract.exe'\n",
    "\n",
    "\n",
    "path = 'C:\\\\Users\\\\Rajkumar\\\\Desktop\\\\studies\\\\ml_test\\\\20191005_214129456_iOS.jpg'\n",
    "img = image.load_img(path, target_size=(150, 150, 3))\n",
    "x = image.img_to_array(img)\n",
    "x = np.expand_dims(x, axis=0)\n",
    "classs = model.predict(x)\n",
    "print(classs)\n",
    "if classs[0]>0.5:\n",
    "    print(\"Not empty\")\n",
    "else:\n",
    "    print(\"empty\")\n",
    "    im = Image.open('C:\\\\Users\\\\Rajkumar\\\\Desktop\\\\studies\\\\ml_test\\\\20191005_214129456_iOS.jpg')\n",
    "    txt = pytesseract.image_to_string(im, lang = 'eng')\n",
    "    txt = ''.join(txt.split())\n",
    "    print(txt)\n",
    "    \n"
   ]
  },
  {
   "cell_type": "code",
   "execution_count": null,
   "metadata": {},
   "outputs": [],
   "source": []
  },
  {
   "cell_type": "code",
   "execution_count": null,
   "metadata": {},
   "outputs": [],
   "source": []
  },
  {
   "cell_type": "code",
   "execution_count": null,
   "metadata": {},
   "outputs": [],
   "source": []
  },
  {
   "cell_type": "code",
   "execution_count": null,
   "metadata": {},
   "outputs": [],
   "source": []
  }
 ],
 "metadata": {
  "kernelspec": {
   "display_name": "Python 3",
   "language": "python",
   "name": "python3"
  },
  "language_info": {
   "codemirror_mode": {
    "name": "ipython",
    "version": 3
   },
   "file_extension": ".py",
   "mimetype": "text/x-python",
   "name": "python",
   "nbconvert_exporter": "python",
   "pygments_lexer": "ipython3",
   "version": "3.6.8"
  }
 },
 "nbformat": 4,
 "nbformat_minor": 2
}
